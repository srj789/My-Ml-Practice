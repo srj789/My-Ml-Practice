{
 "cells": [
  {
   "cell_type": "markdown",
   "metadata": {},
   "source": [
    "# Import Dataset from Github directly"
   ]
  },
  {
   "cell_type": "code",
   "execution_count": 1,
   "metadata": {},
   "outputs": [],
   "source": [
    "import requests\n",
    "import pandas as pd\n",
    "\n",
    "url = \"https://github.com/yashbhutoria/PCE-CS-III-ML-Club\"\n",
    "html = requests.get(url).content\n",
    "df_list = pd.read_html(html)\n",
    "df1 = df_list[1]\n",
    "df2 = df_list[2]\n",
    "#df1"
   ]
  },
  {
   "cell_type": "markdown",
   "metadata": {},
   "source": [
    "# Import Second Dataset of 2nd Year Students"
   ]
  },
  {
   "cell_type": "code",
   "execution_count": 2,
   "metadata": {},
   "outputs": [],
   "source": [
    "#df2"
   ]
  },
  {
   "cell_type": "markdown",
   "metadata": {},
   "source": [
    "# Concatenate Both Data into Single dataset"
   ]
  },
  {
   "cell_type": "code",
   "execution_count": 3,
   "metadata": {},
   "outputs": [],
   "source": [
    "frames = [df2, df1]\n",
    "result = pd.concat(frames)\n",
    "#result"
   ]
  },
  {
   "cell_type": "markdown",
   "metadata": {},
   "source": [
    "# Extract Stars and Name Column"
   ]
  },
  {
   "cell_type": "code",
   "execution_count": 4,
   "metadata": {},
   "outputs": [],
   "source": [
    "X=result[['Stars ⭐️','Name']]\n",
    "#X"
   ]
  },
  {
   "cell_type": "markdown",
   "metadata": {},
   "source": [
    "# Extract Students having atleast one star"
   ]
  },
  {
   "cell_type": "code",
   "execution_count": 5,
   "metadata": {},
   "outputs": [],
   "source": [
    "y =X[X['Stars ⭐️']>=1]\n",
    "#y"
   ]
  },
  {
   "cell_type": "markdown",
   "metadata": {},
   "source": [
    "# Sort according to no. of stars in ascending order"
   ]
  },
  {
   "cell_type": "code",
   "execution_count": 6,
   "metadata": {},
   "outputs": [],
   "source": [
    "y=y.sort_values('Stars ⭐️', ascending=True)\n",
    "#y"
   ]
  },
  {
   "cell_type": "markdown",
   "metadata": {},
   "source": [
    "# Rename Columns"
   ]
  },
  {
   "cell_type": "code",
   "execution_count": 7,
   "metadata": {},
   "outputs": [],
   "source": [
    "y.columns = ['Stars','Name']"
   ]
  },
  {
   "cell_type": "markdown",
   "metadata": {},
   "source": [
    "# Calculate No. of members"
   ]
  },
  {
   "cell_type": "code",
   "execution_count": 8,
   "metadata": {},
   "outputs": [],
   "source": [
    "members=X['Name'].count()\n",
    "nm=\"Members\",members\n",
    "#nm"
   ]
  },
  {
   "cell_type": "markdown",
   "metadata": {},
   "source": [
    "# Calculate total no. of stars"
   ]
  },
  {
   "cell_type": "code",
   "execution_count": 9,
   "metadata": {},
   "outputs": [],
   "source": [
    "no=y['Stars'].sum()\n",
    "x=\"Total Number of Stars\",no\n",
    "#x"
   ]
  },
  {
   "cell_type": "code",
   "execution_count": 12,
   "metadata": {},
   "outputs": [
    {
     "data": {
      "image/png": "[encoded data removed]",
      "text/plain": [
       "<Figure size 432x288 with 1 Axes>"
      ]
     },
     "metadata": {},
     "output_type": "display_data"
    }
   ],
   "source": [
    "import matplotlib.pyplot as plt\n",
    "n= range(len(y['Name'])) \n",
    "fig, ax = plt.subplots()\n",
    "ax.barh(n,y['Stars'], align=\"center\", color='goldenrod')\n",
    "ax.set_yticks(n)\n",
    "ax.set_yticklabels(y['Name']) \n",
    "plt.title(\"Star Performers Dashboard\" ,color='green',fontsize=20)\n",
    "plt.xlabel(\"Numbers of Stars Earned\")\n",
    "plt.ylabel(\"Performers\")\n",
    "plt.figtext(1, 0.5, x, fontsize=16)\n",
    "plt.figtext(1, 0.7, nm, fontsize=16)\n",
    "plt.show()"
   ]
  },
  {
   "cell_type": "markdown",
   "metadata": {},
   "source": [
    "# Import assignment dataset from link"
   ]
  },
  {
   "cell_type": "code",
   "execution_count": 13,
   "metadata": {},
   "outputs": [],
   "source": [
    "url2 = \"https://docs.google.com/spreadsheets/d/12ctiyShx00Chea0AZ0C9Z1wrKFSunZWUKT6gZmnHdaw/edit#gid=1027535130\"\n",
    "html2 = requests.get(url2).content\n",
    "df_list2 = pd.read_html(html2)\n",
    "df3=df_list2[0]\n",
    "#df3"
   ]
  },
  {
   "cell_type": "markdown",
   "metadata": {},
   "source": [
    "# Extracting required columns"
   ]
  },
  {
   "cell_type": "code",
   "execution_count": 14,
   "metadata": {},
   "outputs": [],
   "source": [
    "z=df3.iloc[2:,3:5]\n",
    "z.columns = ['RegistrationNo', 'AssignmentNo']\n",
    "z=z.assign(RegistrationNo=z['RegistrationNo'].str.upper())\n",
    "z=pd.DataFrame(z)\n",
    "#z"
   ]
  },
  {
   "cell_type": "markdown",
   "metadata": {},
   "source": [
    "# Group identical Reg.No and Calculate its occurence"
   ]
  },
  {
   "cell_type": "code",
   "execution_count": 15,
   "metadata": {},
   "outputs": [],
   "source": [
    "z2=pd.DataFrame({'AssignmentNo' : z.groupby('RegistrationNo').size()}).reset_index()\n",
    "#z2"
   ]
  },
  {
   "cell_type": "markdown",
   "metadata": {},
   "source": [
    "# Sort according to descending order"
   ]
  },
  {
   "cell_type": "code",
   "execution_count": 16,
   "metadata": {},
   "outputs": [],
   "source": [
    "data=z2.sort_values('AssignmentNo', ascending=False)\n",
    "#data"
   ]
  },
  {
   "cell_type": "markdown",
   "metadata": {},
   "source": [
    "# Fetching data from repo table for name matching with registration number"
   ]
  },
  {
   "cell_type": "code",
   "execution_count": 17,
   "metadata": {},
   "outputs": [],
   "source": [
    "filter_data =result[['Registration No.', 'Name']]\n",
    "#filter_data"
   ]
  },
  {
   "cell_type": "code",
   "execution_count": 18,
   "metadata": {},
   "outputs": [],
   "source": [
    "filter_data.columns = ['RegistrationNo', 'Name']"
   ]
  },
  {
   "cell_type": "markdown",
   "metadata": {},
   "source": [
    "# Merging both repo table data and extracted assignment data"
   ]
  },
  {
   "cell_type": "code",
   "execution_count": 19,
   "metadata": {},
   "outputs": [],
   "source": [
    "Merged_data=pd.merge(z2, filter_data,on=\"RegistrationNo\")\n",
    "#Merged_data"
   ]
  },
  {
   "cell_type": "markdown",
   "metadata": {},
   "source": [
    "# Result:-"
   ]
  },
  {
   "cell_type": "code",
   "execution_count": 21,
   "metadata": {},
   "outputs": [
    {
     "data": {
      "text/html": [
       "<style  type=\"text/css\" >\n",
       "    #T_cc851c80_1c09_11e9_98a7_98e7f4149cddrow0_col1 {\n",
       "            background-color:  #31688e;\n",
       "        }    #T_cc851c80_1c09_11e9_98a7_98e7f4149cddrow1_col1 {\n",
       "            background-color:  #22a884;\n",
       "        }    #T_cc851c80_1c09_11e9_98a7_98e7f4149cddrow2_col1 {\n",
       "            background-color:  #23888e;\n",
       "        }    #T_cc851c80_1c09_11e9_98a7_98e7f4149cddrow3_col1 {\n",
       "            background-color:  #23888e;\n",
       "        }    #T_cc851c80_1c09_11e9_98a7_98e7f4149cddrow4_col1 {\n",
       "            background-color:  #54c568;\n",
       "        }    #T_cc851c80_1c09_11e9_98a7_98e7f4149cddrow5_col1 {\n",
       "            background-color:  #fde725;\n",
       "        }    #T_cc851c80_1c09_11e9_98a7_98e7f4149cddrow6_col1 {\n",
       "            background-color:  #fde725;\n",
       "        }    #T_cc851c80_1c09_11e9_98a7_98e7f4149cddrow7_col1 {\n",
       "            background-color:  #31688e;\n",
       "        }    #T_cc851c80_1c09_11e9_98a7_98e7f4149cddrow8_col1 {\n",
       "            background-color:  #a5db36;\n",
       "        }    #T_cc851c80_1c09_11e9_98a7_98e7f4149cddrow9_col1 {\n",
       "            background-color:  #a5db36;\n",
       "        }    #T_cc851c80_1c09_11e9_98a7_98e7f4149cddrow10_col1 {\n",
       "            background-color:  #a5db36;\n",
       "        }    #T_cc851c80_1c09_11e9_98a7_98e7f4149cddrow11_col1 {\n",
       "            background-color:  #fde725;\n",
       "        }    #T_cc851c80_1c09_11e9_98a7_98e7f4149cddrow12_col1 {\n",
       "            background-color:  #23888e;\n",
       "        }    #T_cc851c80_1c09_11e9_98a7_98e7f4149cddrow13_col1 {\n",
       "            background-color:  #22a884;\n",
       "        }    #T_cc851c80_1c09_11e9_98a7_98e7f4149cddrow14_col1 {\n",
       "            background-color:  #54c568;\n",
       "        }    #T_cc851c80_1c09_11e9_98a7_98e7f4149cddrow15_col1 {\n",
       "            background-color:  #54c568;\n",
       "        }    #T_cc851c80_1c09_11e9_98a7_98e7f4149cddrow16_col1 {\n",
       "            background-color:  #54c568;\n",
       "        }    #T_cc851c80_1c09_11e9_98a7_98e7f4149cddrow17_col1 {\n",
       "            background-color:  #a5db36;\n",
       "        }    #T_cc851c80_1c09_11e9_98a7_98e7f4149cddrow18_col1 {\n",
       "            background-color:  #22a884;\n",
       "        }    #T_cc851c80_1c09_11e9_98a7_98e7f4149cddrow19_col1 {\n",
       "            background-color:  #a5db36;\n",
       "        }    #T_cc851c80_1c09_11e9_98a7_98e7f4149cddrow20_col1 {\n",
       "            background-color:  #fde725;\n",
       "        }    #T_cc851c80_1c09_11e9_98a7_98e7f4149cddrow21_col1 {\n",
       "            background-color:  #54c568;\n",
       "        }    #T_cc851c80_1c09_11e9_98a7_98e7f4149cddrow22_col1 {\n",
       "            background-color:  #22a884;\n",
       "        }    #T_cc851c80_1c09_11e9_98a7_98e7f4149cddrow23_col1 {\n",
       "            background-color:  #31688e;\n",
       "        }    #T_cc851c80_1c09_11e9_98a7_98e7f4149cddrow24_col1 {\n",
       "            background-color:  #31688e;\n",
       "        }    #T_cc851c80_1c09_11e9_98a7_98e7f4149cddrow25_col1 {\n",
       "            background-color:  #23888e;\n",
       "        }    #T_cc851c80_1c09_11e9_98a7_98e7f4149cddrow26_col1 {\n",
       "            background-color:  #54c568;\n",
       "        }    #T_cc851c80_1c09_11e9_98a7_98e7f4149cddrow27_col1 {\n",
       "            background-color:  #31688e;\n",
       "        }</style>  \n",
       "<table id=\"T_cc851c80_1c09_11e9_98a7_98e7f4149cdd\" > \n",
       "<thead>    <tr> \n",
       "        <th class=\"blank level0\" ></th> \n",
       "        <th class=\"col_heading level0 col0\" >Name</th> \n",
       "        <th class=\"col_heading level0 col1\" >Assignment_Completed</th> \n",
       "    </tr></thead> \n",
       "<tbody>    <tr> \n",
       "        <th id=\"T_cc851c80_1c09_11e9_98a7_98e7f4149cddlevel0_row0\" class=\"row_heading level0 row0\" >0</th> \n",
       "        <td id=\"T_cc851c80_1c09_11e9_98a7_98e7f4149cddrow0_col0\" class=\"data row0 col0\" >Aditya Rajora</td> \n",
       "        <td id=\"T_cc851c80_1c09_11e9_98a7_98e7f4149cddrow0_col1\" class=\"data row0 col1\" >1</td> \n",
       "    </tr>    <tr> \n",
       "        <th id=\"T_cc851c80_1c09_11e9_98a7_98e7f4149cddlevel0_row1\" class=\"row_heading level0 row1\" >1</th> \n",
       "        <td id=\"T_cc851c80_1c09_11e9_98a7_98e7f4149cddrow1_col0\" class=\"data row1 col0\" >Ayush Kumar</td> \n",
       "        <td id=\"T_cc851c80_1c09_11e9_98a7_98e7f4149cddrow1_col1\" class=\"data row1 col1\" >3</td> \n",
       "    </tr>    <tr> \n",
       "        <th id=\"T_cc851c80_1c09_11e9_98a7_98e7f4149cddlevel0_row2\" class=\"row_heading level0 row2\" >2</th> \n",
       "        <td id=\"T_cc851c80_1c09_11e9_98a7_98e7f4149cddrow2_col0\" class=\"data row2 col0\" >Chahat Jain</td> \n",
       "        <td id=\"T_cc851c80_1c09_11e9_98a7_98e7f4149cddrow2_col1\" class=\"data row2 col1\" >2</td> \n",
       "    </tr>    <tr> \n",
       "        <th id=\"T_cc851c80_1c09_11e9_98a7_98e7f4149cddlevel0_row3\" class=\"row_heading level0 row3\" >3</th> \n",
       "        <td id=\"T_cc851c80_1c09_11e9_98a7_98e7f4149cddrow3_col0\" class=\"data row3 col0\" >Diksha Bothra</td> \n",
       "        <td id=\"T_cc851c80_1c09_11e9_98a7_98e7f4149cddrow3_col1\" class=\"data row3 col1\" >2</td> \n",
       "    </tr>    <tr> \n",
       "        <th id=\"T_cc851c80_1c09_11e9_98a7_98e7f4149cddlevel0_row4\" class=\"row_heading level0 row4\" >4</th> \n",
       "        <td id=\"T_cc851c80_1c09_11e9_98a7_98e7f4149cddrow4_col0\" class=\"data row4 col0\" >Disti Jain</td> \n",
       "        <td id=\"T_cc851c80_1c09_11e9_98a7_98e7f4149cddrow4_col1\" class=\"data row4 col1\" >4</td> \n",
       "    </tr>    <tr> \n",
       "        <th id=\"T_cc851c80_1c09_11e9_98a7_98e7f4149cddlevel0_row5\" class=\"row_heading level0 row5\" >5</th> \n",
       "        <td id=\"T_cc851c80_1c09_11e9_98a7_98e7f4149cddrow5_col0\" class=\"data row5 col0\" >Eakta Sharma</td> \n",
       "        <td id=\"T_cc851c80_1c09_11e9_98a7_98e7f4149cddrow5_col1\" class=\"data row5 col1\" >6</td> \n",
       "    </tr>    <tr> \n",
       "        <th id=\"T_cc851c80_1c09_11e9_98a7_98e7f4149cddlevel0_row6\" class=\"row_heading level0 row6\" >6</th> \n",
       "        <td id=\"T_cc851c80_1c09_11e9_98a7_98e7f4149cddrow6_col0\" class=\"data row6 col0\" >Jaya Sharma</td> \n",
       "        <td id=\"T_cc851c80_1c09_11e9_98a7_98e7f4149cddrow6_col1\" class=\"data row6 col1\" >6</td> \n",
       "    </tr>    <tr> \n",
       "        <th id=\"T_cc851c80_1c09_11e9_98a7_98e7f4149cddlevel0_row7\" class=\"row_heading level0 row7\" >7</th> \n",
       "        <td id=\"T_cc851c80_1c09_11e9_98a7_98e7f4149cddrow7_col0\" class=\"data row7 col0\" >Manas</td> \n",
       "        <td id=\"T_cc851c80_1c09_11e9_98a7_98e7f4149cddrow7_col1\" class=\"data row7 col1\" >1</td> \n",
       "    </tr>    <tr> \n",
       "        <th id=\"T_cc851c80_1c09_11e9_98a7_98e7f4149cddlevel0_row8\" class=\"row_heading level0 row8\" >8</th> \n",
       "        <td id=\"T_cc851c80_1c09_11e9_98a7_98e7f4149cddrow8_col0\" class=\"data row8 col0\" >Megha Gupta</td> \n",
       "        <td id=\"T_cc851c80_1c09_11e9_98a7_98e7f4149cddrow8_col1\" class=\"data row8 col1\" >5</td> \n",
       "    </tr>    <tr> \n",
       "        <th id=\"T_cc851c80_1c09_11e9_98a7_98e7f4149cddlevel0_row9\" class=\"row_heading level0 row9\" >9</th> \n",
       "        <td id=\"T_cc851c80_1c09_11e9_98a7_98e7f4149cddrow9_col0\" class=\"data row9 col0\" >Mohit Saini</td> \n",
       "        <td id=\"T_cc851c80_1c09_11e9_98a7_98e7f4149cddrow9_col1\" class=\"data row9 col1\" >5</td> \n",
       "    </tr>    <tr> \n",
       "        <th id=\"T_cc851c80_1c09_11e9_98a7_98e7f4149cddlevel0_row10\" class=\"row_heading level0 row10\" >10</th> \n",
       "        <td id=\"T_cc851c80_1c09_11e9_98a7_98e7f4149cddrow10_col0\" class=\"data row10 col0\" >Piyush Vaishya</td> \n",
       "        <td id=\"T_cc851c80_1c09_11e9_98a7_98e7f4149cddrow10_col1\" class=\"data row10 col1\" >5</td> \n",
       "    </tr>    <tr> \n",
       "        <th id=\"T_cc851c80_1c09_11e9_98a7_98e7f4149cddlevel0_row11\" class=\"row_heading level0 row11\" >11</th> \n",
       "        <td id=\"T_cc851c80_1c09_11e9_98a7_98e7f4149cddrow11_col0\" class=\"data row11 col0\" >PREM SINGH RATHORE</td> \n",
       "        <td id=\"T_cc851c80_1c09_11e9_98a7_98e7f4149cddrow11_col1\" class=\"data row11 col1\" >6</td> \n",
       "    </tr>    <tr> \n",
       "        <th id=\"T_cc851c80_1c09_11e9_98a7_98e7f4149cddlevel0_row12\" class=\"row_heading level0 row12\" >12</th> \n",
       "        <td id=\"T_cc851c80_1c09_11e9_98a7_98e7f4149cddrow12_col0\" class=\"data row12 col0\" >Priyanshi Agrawal</td> \n",
       "        <td id=\"T_cc851c80_1c09_11e9_98a7_98e7f4149cddrow12_col1\" class=\"data row12 col1\" >2</td> \n",
       "    </tr>    <tr> \n",
       "        <th id=\"T_cc851c80_1c09_11e9_98a7_98e7f4149cddlevel0_row13\" class=\"row_heading level0 row13\" >13</th> \n",
       "        <td id=\"T_cc851c80_1c09_11e9_98a7_98e7f4149cddrow13_col0\" class=\"data row13 col0\" >Rishina Dargar</td> \n",
       "        <td id=\"T_cc851c80_1c09_11e9_98a7_98e7f4149cddrow13_col1\" class=\"data row13 col1\" >3</td> \n",
       "    </tr>    <tr> \n",
       "        <th id=\"T_cc851c80_1c09_11e9_98a7_98e7f4149cddlevel0_row14\" class=\"row_heading level0 row14\" >14</th> \n",
       "        <td id=\"T_cc851c80_1c09_11e9_98a7_98e7f4149cddrow14_col0\" class=\"data row14 col0\" >Sahil Chopra</td> \n",
       "        <td id=\"T_cc851c80_1c09_11e9_98a7_98e7f4149cddrow14_col1\" class=\"data row14 col1\" >4</td> \n",
       "    </tr>    <tr> \n",
       "        <th id=\"T_cc851c80_1c09_11e9_98a7_98e7f4149cddlevel0_row15\" class=\"row_heading level0 row15\" >15</th> \n",
       "        <td id=\"T_cc851c80_1c09_11e9_98a7_98e7f4149cddrow15_col0\" class=\"data row15 col0\" >Sakshi Agarwal</td> \n",
       "        <td id=\"T_cc851c80_1c09_11e9_98a7_98e7f4149cddrow15_col1\" class=\"data row15 col1\" >4</td> \n",
       "    </tr>    <tr> \n",
       "        <th id=\"T_cc851c80_1c09_11e9_98a7_98e7f4149cddlevel0_row16\" class=\"row_heading level0 row16\" >16</th> \n",
       "        <td id=\"T_cc851c80_1c09_11e9_98a7_98e7f4149cddrow16_col0\" class=\"data row16 col0\" >Shivansh Mathur</td> \n",
       "        <td id=\"T_cc851c80_1c09_11e9_98a7_98e7f4149cddrow16_col1\" class=\"data row16 col1\" >4</td> \n",
       "    </tr>    <tr> \n",
       "        <th id=\"T_cc851c80_1c09_11e9_98a7_98e7f4149cddlevel0_row17\" class=\"row_heading level0 row17\" >17</th> \n",
       "        <td id=\"T_cc851c80_1c09_11e9_98a7_98e7f4149cddrow17_col0\" class=\"data row17 col0\" >Shruti Ganeriwal</td> \n",
       "        <td id=\"T_cc851c80_1c09_11e9_98a7_98e7f4149cddrow17_col1\" class=\"data row17 col1\" >5</td> \n",
       "    </tr>    <tr> \n",
       "        <th id=\"T_cc851c80_1c09_11e9_98a7_98e7f4149cddlevel0_row18\" class=\"row_heading level0 row18\" >18</th> \n",
       "        <td id=\"T_cc851c80_1c09_11e9_98a7_98e7f4149cddrow18_col0\" class=\"data row18 col0\" >Shubham Kumar</td> \n",
       "        <td id=\"T_cc851c80_1c09_11e9_98a7_98e7f4149cddrow18_col1\" class=\"data row18 col1\" >3</td> \n",
       "    </tr>    <tr> \n",
       "        <th id=\"T_cc851c80_1c09_11e9_98a7_98e7f4149cddlevel0_row19\" class=\"row_heading level0 row19\" >19</th> \n",
       "        <td id=\"T_cc851c80_1c09_11e9_98a7_98e7f4149cddrow19_col0\" class=\"data row19 col0\" >Sudhanshu Jain</td> \n",
       "        <td id=\"T_cc851c80_1c09_11e9_98a7_98e7f4149cddrow19_col1\" class=\"data row19 col1\" >5</td> \n",
       "    </tr>    <tr> \n",
       "        <th id=\"T_cc851c80_1c09_11e9_98a7_98e7f4149cddlevel0_row20\" class=\"row_heading level0 row20\" >20</th> \n",
       "        <td id=\"T_cc851c80_1c09_11e9_98a7_98e7f4149cddrow20_col0\" class=\"data row20 col0\" >Suraj Kumar</td> \n",
       "        <td id=\"T_cc851c80_1c09_11e9_98a7_98e7f4149cddrow20_col1\" class=\"data row20 col1\" >6</td> \n",
       "    </tr>    <tr> \n",
       "        <th id=\"T_cc851c80_1c09_11e9_98a7_98e7f4149cddlevel0_row21\" class=\"row_heading level0 row21\" >21</th> \n",
       "        <td id=\"T_cc851c80_1c09_11e9_98a7_98e7f4149cddrow21_col0\" class=\"data row21 col0\" >Swapnil Singh</td> \n",
       "        <td id=\"T_cc851c80_1c09_11e9_98a7_98e7f4149cddrow21_col1\" class=\"data row21 col1\" >4</td> \n",
       "    </tr>    <tr> \n",
       "        <th id=\"T_cc851c80_1c09_11e9_98a7_98e7f4149cddlevel0_row22\" class=\"row_heading level0 row22\" >22</th> \n",
       "        <td id=\"T_cc851c80_1c09_11e9_98a7_98e7f4149cddrow22_col0\" class=\"data row22 col0\" >Abhishek Sharma</td> \n",
       "        <td id=\"T_cc851c80_1c09_11e9_98a7_98e7f4149cddrow22_col1\" class=\"data row22 col1\" >3</td> \n",
       "    </tr>    <tr> \n",
       "        <th id=\"T_cc851c80_1c09_11e9_98a7_98e7f4149cddlevel0_row23\" class=\"row_heading level0 row23\" >23</th> \n",
       "        <td id=\"T_cc851c80_1c09_11e9_98a7_98e7f4149cddrow23_col0\" class=\"data row23 col0\" >Sanjoli Jain</td> \n",
       "        <td id=\"T_cc851c80_1c09_11e9_98a7_98e7f4149cddrow23_col1\" class=\"data row23 col1\" >1</td> \n",
       "    </tr>    <tr> \n",
       "        <th id=\"T_cc851c80_1c09_11e9_98a7_98e7f4149cddlevel0_row24\" class=\"row_heading level0 row24\" >24</th> \n",
       "        <td id=\"T_cc851c80_1c09_11e9_98a7_98e7f4149cddrow24_col0\" class=\"data row24 col0\" >Eshan Talwadiya</td> \n",
       "        <td id=\"T_cc851c80_1c09_11e9_98a7_98e7f4149cddrow24_col1\" class=\"data row24 col1\" >1</td> \n",
       "    </tr>    <tr> \n",
       "        <th id=\"T_cc851c80_1c09_11e9_98a7_98e7f4149cddlevel0_row25\" class=\"row_heading level0 row25\" >25</th> \n",
       "        <td id=\"T_cc851c80_1c09_11e9_98a7_98e7f4149cddrow25_col0\" class=\"data row25 col0\" >Alfaij Mansuri</td> \n",
       "        <td id=\"T_cc851c80_1c09_11e9_98a7_98e7f4149cddrow25_col1\" class=\"data row25 col1\" >2</td> \n",
       "    </tr>    <tr> \n",
       "        <th id=\"T_cc851c80_1c09_11e9_98a7_98e7f4149cddlevel0_row26\" class=\"row_heading level0 row26\" >26</th> \n",
       "        <td id=\"T_cc851c80_1c09_11e9_98a7_98e7f4149cddrow26_col0\" class=\"data row26 col0\" >Kuldeep Tailor</td> \n",
       "        <td id=\"T_cc851c80_1c09_11e9_98a7_98e7f4149cddrow26_col1\" class=\"data row26 col1\" >4</td> \n",
       "    </tr>    <tr> \n",
       "        <th id=\"T_cc851c80_1c09_11e9_98a7_98e7f4149cddlevel0_row27\" class=\"row_heading level0 row27\" >27</th> \n",
       "        <td id=\"T_cc851c80_1c09_11e9_98a7_98e7f4149cddrow27_col0\" class=\"data row27 col0\" >Pankaj Kumar</td> \n",
       "        <td id=\"T_cc851c80_1c09_11e9_98a7_98e7f4149cddrow27_col1\" class=\"data row27 col1\" >1</td> \n",
       "    </tr></tbody> \n",
       "</table> "
      ],
      "text/plain": [
       "<pandas.io.formats.style.Styler at 0x1dd9ddd3940>"
      ]
     },
     "execution_count": 21,
     "metadata": {},
     "output_type": "execute_result"
    }
   ],
   "source": [
    "final_list =Merged_data[['Name', 'AssignmentNo']]\n",
    "final_list.columns=['Name','Assignment_Completed']\n",
    "final_list=final_list.style.background_gradient(cmap='viridis', low=.5, high=0)\n",
    "final_list\n"
   ]
  },
  {
   "cell_type": "code",
   "execution_count": 22,
   "metadata": {},
   "outputs": [],
   "source": [
    "reg_1 =result[['Registration No.']]\n",
    "reg_1.columns=['Reg']\n",
    "reg_2 =z[['RegistrationNo']]\n",
    "reg_2.columns=['Reg']\n",
    "reg_2=reg_2.drop_duplicates(['Reg'], keep='last')\n",
    "zero=pd.concat([reg_1, reg_2])\n",
    "zero=zero.assign(Reg=zero['Reg'].str.upper())\n",
    "zero=zero.drop_duplicates(keep=False)"
   ]
  },
  {
   "cell_type": "code",
   "execution_count": 24,
   "metadata": {},
   "outputs": [
    {
     "data": {
      "text/html": [
       "<style  type=\"text/css\" >\n",
       "    #T_f5a76d0a_1c09_11e9_b3eb_98e7f4149cddrow0_col0 {\n",
       "            background-color:  black;\n",
       "            color:  red;\n",
       "            border-color:  white;\n",
       "        }    #T_f5a76d0a_1c09_11e9_b3eb_98e7f4149cddrow1_col0 {\n",
       "            background-color:  black;\n",
       "            color:  red;\n",
       "            border-color:  white;\n",
       "        }    #T_f5a76d0a_1c09_11e9_b3eb_98e7f4149cddrow2_col0 {\n",
       "            background-color:  black;\n",
       "            color:  red;\n",
       "            border-color:  white;\n",
       "        }    #T_f5a76d0a_1c09_11e9_b3eb_98e7f4149cddrow3_col0 {\n",
       "            background-color:  black;\n",
       "            color:  red;\n",
       "            border-color:  white;\n",
       "        }    #T_f5a76d0a_1c09_11e9_b3eb_98e7f4149cddrow4_col0 {\n",
       "            background-color:  black;\n",
       "            color:  red;\n",
       "            border-color:  white;\n",
       "        }</style>  \n",
       "<table id=\"T_f5a76d0a_1c09_11e9_b3eb_98e7f4149cdd\" > \n",
       "<thead>    <tr> \n",
       "        <th class=\"blank level0\" ></th> \n",
       "        <th class=\"col_heading level0 col0\" >Students with 0 Submissioin in Form</th> \n",
       "    </tr></thead> \n",
       "<tbody>    <tr> \n",
       "        <th id=\"T_f5a76d0a_1c09_11e9_b3eb_98e7f4149cddlevel0_row0\" class=\"row_heading level0 row0\" >0</th> \n",
       "        <td id=\"T_f5a76d0a_1c09_11e9_b3eb_98e7f4149cddrow0_col0\" class=\"data row0 col0\" >Chayan Jain</td> \n",
       "    </tr>    <tr> \n",
       "        <th id=\"T_f5a76d0a_1c09_11e9_b3eb_98e7f4149cddlevel0_row1\" class=\"row_heading level0 row1\" >1</th> \n",
       "        <td id=\"T_f5a76d0a_1c09_11e9_b3eb_98e7f4149cddrow1_col0\" class=\"data row1 col0\" >pranjal shah</td> \n",
       "    </tr>    <tr> \n",
       "        <th id=\"T_f5a76d0a_1c09_11e9_b3eb_98e7f4149cddlevel0_row2\" class=\"row_heading level0 row2\" >2</th> \n",
       "        <td id=\"T_f5a76d0a_1c09_11e9_b3eb_98e7f4149cddrow2_col0\" class=\"data row2 col0\" >Reena Badesra</td> \n",
       "    </tr>    <tr> \n",
       "        <th id=\"T_f5a76d0a_1c09_11e9_b3eb_98e7f4149cddlevel0_row3\" class=\"row_heading level0 row3\" >3</th> \n",
       "        <td id=\"T_f5a76d0a_1c09_11e9_b3eb_98e7f4149cddrow3_col0\" class=\"data row3 col0\" >Rajendra Singh Devara</td> \n",
       "    </tr>    <tr> \n",
       "        <th id=\"T_f5a76d0a_1c09_11e9_b3eb_98e7f4149cddlevel0_row4\" class=\"row_heading level0 row4\" >4</th> \n",
       "        <td id=\"T_f5a76d0a_1c09_11e9_b3eb_98e7f4149cddrow4_col0\" class=\"data row4 col0\" >Mohit Agarwal</td> \n",
       "    </tr></tbody> \n",
       "</table> "
      ],
      "text/plain": [
       "<pandas.io.formats.style.Styler at 0x1dd9f262ba8>"
      ]
     },
     "execution_count": 24,
     "metadata": {},
     "output_type": "execute_result"
    }
   ],
   "source": [
    "reg_name_1=result[['Registration No.', 'Name']]\n",
    "reg_name_1.columns = ['Reg', 'Name']\n",
    "reg_name_1=reg_name_1.assign(Reg=reg_name_1['Reg'].str.upper())\n",
    "zero_sub=pd.merge(zero,reg_name_1, on=\"Reg\")\n",
    "zero_sub=zero_sub[['Name']]\n",
    "zero_sub.columns=['Students with 0 Submissioin in Form']\n",
    "zero_sub=zero_sub.style.set_properties(**{'background-color': 'black',\n",
    "                           'color': 'red',\n",
    "                           'border-color': 'white'})\n",
    "zero_sub"
   ]
  },
  {
   "cell_type": "code",
   "execution_count": null,
   "metadata": {},
   "outputs": [],
   "source": []
  }
 ],
 "metadata": {
  "kernelspec": {
   "display_name": "Python 3",
   "language": "python",
   "name": "python3"
  },
  "language_info": {
   "codemirror_mode": {
    "name": "ipython",
    "version": 3
   },
   "file_extension": ".py",
   "mimetype": "text/x-python",
   "name": "python",
   "nbconvert_exporter": "python",
   "pygments_lexer": "ipython3",
   "version": "3.6.5"
  }
 },
 "nbformat": 4,
 "nbformat_minor": 2
}
